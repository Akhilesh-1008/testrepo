{
 "cells": [
  {
   "cell_type": "markdown",
   "id": "1ab066d5-986d-44d7-afe8-e4891fec3de4",
   "metadata": {
    "tags": []
   },
   "source": [
    "# **Data Science Tools And Ecosystem**"
   ]
  },
  {
   "cell_type": "markdown",
   "id": "b9687679-771e-4e0a-a28a-6e586d29bbf3",
   "metadata": {},
   "source": [
    "### In this notebook, Data Science Tools and Ecosystem are summarized.\n",
    " **Objectives:**\n",
    "- List Of Popular Languages Used In Data Science.\n",
    "- List Of Commonly Used Libraries.\n",
    "- List Os Tools Used in Data Science.\n"
   ]
  },
  {
   "cell_type": "markdown",
   "id": "c4d3b32c-f6a7-45ac-9fc8-de2f50f489d0",
   "metadata": {},
   "source": [
    "#### Some of the popular languages that Data Scientists use are:"
   ]
  },
  {
   "cell_type": "markdown",
   "id": "83a73a6f-f5a0-42a3-8776-ad59f012caa2",
   "metadata": {},
   "source": [
    "``` \n",
    "   1. Python\n",
    "   2. SQL\n",
    "   3. R\n",
    "   4. Java\n",
    "```   "
   ]
  },
  {
   "cell_type": "markdown",
   "id": "7a8a07a6-d418-4e55-83a2-b4ac0ef75097",
   "metadata": {},
   "source": [
    "#### Some of the commonly used libraries used by Data Scientists include:\n",
    "``` \n",
    "   1.Pandas\n",
    "   2.Numpy\n",
    "   3.Matplotlib\n",
    "```   \n"
   ]
  },
  {
   "cell_type": "markdown",
   "id": "02c82328-4e18-4212-abcf-731ebef713a4",
   "metadata": {},
   "source": [
    "|Data science Tool|\n",
    "|---------|\n",
    "|Tensor flow|\n",
    "|Jupyter Notebooks|\n",
    "|Apache Spark|"
   ]
  },
  {
   "cell_type": "markdown",
   "id": "482f3c5e-30cb-4ed3-bdc4-93485c71ff44",
   "metadata": {},
   "source": [
    "### Below are a few examples of evaluating arithmetic expressions in Python"
   ]
  },
  {
   "cell_type": "code",
   "execution_count": 5,
   "id": "062b8f13-5d2f-4c01-b19d-c89e04fb8463",
   "metadata": {
    "tags": []
   },
   "outputs": [
    {
     "data": {
      "text/plain": [
       "17"
      ]
     },
     "execution_count": 5,
     "metadata": {},
     "output_type": "execute_result"
    }
   ],
   "source": [
    "# This a simple arithmetic expression to mutiply then add integers\n",
    "(3*4)+5"
   ]
  },
  {
   "cell_type": "code",
   "execution_count": 10,
   "id": "ff2e39eb-eaf8-40fd-baba-572903f1d0ca",
   "metadata": {
    "tags": []
   },
   "outputs": [
    {
     "data": {
      "text/plain": [
       "3.3333333333333335"
      ]
     },
     "execution_count": 10,
     "metadata": {},
     "output_type": "execute_result"
    }
   ],
   "source": [
    "# This will convert 200 minutes to hours by dividing by 60.\n",
    "minutes = 200\n",
    "hours = minutes / 60\n",
    "hours\n"
   ]
  },
  {
   "cell_type": "markdown",
   "id": "fd5d5e94-108b-4247-ae24-2ba6f8c1a0f6",
   "metadata": {},
   "source": [
    "## Author\n",
    "Akhilesh Pratap Singh Rathore"
   ]
  },
  {
   "cell_type": "code",
   "execution_count": null,
   "id": "87673346-55ba-4ab0-a4f8-e63ee09cd0e2",
   "metadata": {},
   "outputs": [],
   "source": []
  }
 ],
 "metadata": {
  "kernelspec": {
   "display_name": "Python",
   "language": "python",
   "name": "conda-env-python-py"
  },
  "language_info": {
   "codemirror_mode": {
    "name": "ipython",
    "version": 3
   },
   "file_extension": ".py",
   "mimetype": "text/x-python",
   "name": "python",
   "nbconvert_exporter": "python",
   "pygments_lexer": "ipython3",
   "version": "3.7.12"
  }
 },
 "nbformat": 4,
 "nbformat_minor": 5
}
